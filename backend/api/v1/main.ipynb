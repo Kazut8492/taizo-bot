{
 "cells": [
  {
   "cell_type": "code",
   "execution_count": 7,
   "metadata": {},
   "outputs": [
    {
     "name": "stdout",
     "output_type": "stream",
     "text": [
      "There's nothing quite like enjoying a thoughtfully made sandwich at the park, surrounded by nature and basking in the sunshine. It's a delectable combination of culinary delight and the wonders of the outdoors - truly revitalising.\n"
     ]
    }
   ],
   "source": [
    "import os\n",
    "import openai\n",
    "from dotenv import load_dotenv\n",
    "\n",
    "# LangChain\n",
    "from langchain.chat_models import ChatOpenAI\n",
    "from langchain import PromptTemplate\n",
    "\n",
    "load_dotenv()\n",
    "\n",
    "openai.api_key = os.environ[\"OPENAI_API_KEY\"]\n",
    "\n",
    "llm = ChatOpenAI(temperature=1, openai_api_key=openai.api_key, model=\"gpt-4\", streaming=True)\n",
    "\n",
    "prompt = (\n",
    "\"\"\"\n",
    "Please create me a tweet about going to the park and eating a sandwich.\n",
    "\n",
    "% TONE\n",
    " - Don't use any emojis or hashtags.\n",
    " - Respond in the tone of Bill Gates\n",
    "\"\"\")\n",
    "\n",
    "output = llm.predict(prompt)\n",
    "\n",
    "print(output)\n",
    "\n",
    "\n",
    "\n",
    "\n"
   ]
  }
 ],
 "metadata": {
  "kernelspec": {
   "display_name": ".taizo-bot",
   "language": "python",
   "name": "python3"
  },
  "language_info": {
   "codemirror_mode": {
    "name": "ipython",
    "version": 3
   },
   "file_extension": ".py",
   "mimetype": "text/x-python",
   "name": "python",
   "nbconvert_exporter": "python",
   "pygments_lexer": "ipython3",
   "version": "3.9.5"
  },
  "orig_nbformat": 4
 },
 "nbformat": 4,
 "nbformat_minor": 2
}
